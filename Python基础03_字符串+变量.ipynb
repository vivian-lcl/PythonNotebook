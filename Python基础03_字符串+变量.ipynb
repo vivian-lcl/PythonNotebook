{
 "cells": [
  {
   "cell_type": "markdown",
   "metadata": {},
   "source": [
    "# 字符串\n",
    "- 转义字符\n",
    "- 格式化\n",
    "- 内建函数（后延）\n",
    "## 转义字符\n",
    "- 用来表示回车，换行，退格等\n",
    "- 借助反斜杠字符，/后面跟上其它几个字符就进行了转义\n",
    "- 不同系统对换行操作有不同的表示\n",
    "    - windows: \\n\n",
    "    - Linux: \\r\\n"
   ]
  },
  {
   "cell_type": "code",
   "execution_count": 8,
   "metadata": {},
   "outputs": [
    {
     "name": "stdout",
     "output_type": "stream",
     "text": [
      "Let's go\n",
      "Let's go\n",
      "\\\n"
     ]
    }
   ],
   "source": [
    "# 如果想表示出Let‘s go\n",
    "# 1. 可以使用嵌套引用，即外层使用双引号\n",
    "# 2. 转义字符\n",
    "s = \"Let's go\"\n",
    "print(s)\n",
    "\n",
    "ss = 'Let\\'s go'\n",
    "print(ss)\n",
    "\n",
    "# 打印反斜杠字符\n",
    "print('\\\\')"
   ]
  },
  {
   "cell_type": "markdown",
   "metadata": {},
   "source": [
    "## 字符串的格式化\n",
    "- 把字符串按照一定格式打印或填充\n",
    "- 格式化有两种方法\n",
    "    - 利用百分号（%）\n",
    "    - 利用format函数"
   ]
  },
  {
   "cell_type": "code",
   "execution_count": 9,
   "metadata": {},
   "outputs": [],
   "source": [
    "s = \"Vivian, hello\""
   ]
  },
  {
   "cell_type": "markdown",
   "metadata": {},
   "source": [
    "### 利用百分号格式化\n",
    "- 在字符串中，%表示特殊的含义，即对字符进行格式化\n",
    "- %d ：此处应该放入一个整数\n",
    "- %s ：表示此处应该放入一个字符串"
   ]
  },
  {
   "cell_type": "code",
   "execution_count": 14,
   "metadata": {},
   "outputs": [
    {
     "name": "stdout",
     "output_type": "stream",
     "text": [
      "I am %s, I am %d years old.\n",
      "I am Vivian, I am 18 years old.\n"
     ]
    }
   ],
   "source": [
    "s = \"I am %s, I am %d years old.\"\n",
    "print(s)\n",
    "print(s%('Vivian',18))"
   ]
  },
  {
   "cell_type": "markdown",
   "metadata": {},
   "source": [
    "### format函数进行格式化字符串\n",
    "- 直接用format函数进行格式化\n",
    "- 推荐使用这种办法\n",
    "- 在使用上， 以（）和：代替%，后面用format带参数完成"
   ]
  },
  {
   "cell_type": "code",
   "execution_count": 19,
   "metadata": {},
   "outputs": [
    {
     "name": "stdout",
     "output_type": "stream",
     "text": [
      "I love Python.\n",
      "I am 18 years old, I love Python, Python is my favorite.\n"
     ]
    }
   ],
   "source": [
    "s = \"I love {}.\".format(\"Python\")\n",
    "print(s)\n",
    "\n",
    "s = \"I am {0} years old, I love {1}, {1} is my favorite.\".format(18,\"Python\")\n",
    "print(s)"
   ]
  },
  {
   "cell_type": "markdown",
   "metadata": {},
   "source": [
    "## None\n",
    "- 表示什么也没有\n",
    "- 如果函数没有返回值， 可以返沪None\n",
    "- 用来占位置\n",
    "- 用来接触变量绑定"
   ]
  },
  {
   "cell_type": "markdown",
   "metadata": {},
   "source": [
    "# 表达式\n",
    "- 由一个或几个数字或者运算符组合成的一行代码\n",
    "- 通常会返回一个结果\n",
    "\n",
    "# 运算符\n",
    "- 用于运算的符号\n",
    "- 运算符分类\n",
    "    - 算术运算符\n",
    "    - 比较运算符\n",
    "    - 逻辑运算符\n",
    "    - 位运算符\n",
    "    - 成员运算符\n",
    "    - 身份运算符\n",
    "\n",
    "## 算术运算符\n",
    "- 加 +\n",
    "- 减 -\n",
    "- 乘 *\n",
    "- 除 /\n",
    "- 取余 //\n",
    "- 幂运算 **"
   ]
  }
 ],
 "metadata": {
  "kernelspec": {
   "display_name": "Python 3",
   "language": "python",
   "name": "python3"
  },
  "language_info": {
   "codemirror_mode": {
    "name": "ipython",
    "version": 3
   },
   "file_extension": ".py",
   "mimetype": "text/x-python",
   "name": "python",
   "nbconvert_exporter": "python",
   "pygments_lexer": "ipython3",
   "version": "3.6.5"
  }
 },
 "nbformat": 4,
 "nbformat_minor": 2
}

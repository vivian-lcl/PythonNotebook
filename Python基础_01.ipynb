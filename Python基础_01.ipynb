{
 "cells": [
  {
   "cell_type": "code",
   "execution_count": 4,
   "metadata": {},
   "outputs": [
    {
     "name": "stdout",
     "output_type": "stream",
     "text": [
      "hello word!\n"
     ]
    },
    {
     "data": {
      "text/plain": [
       "'\\n这里面可以写好多注释代码\\n'"
      ]
     },
     "execution_count": 4,
     "metadata": {},
     "output_type": "execute_result"
    }
   ],
   "source": [
    "print(\"hello word!\") #打印hello word#\n",
    "'''\n",
    "这里面可以写好多注释代码\n",
    "'''"
   ]
  },
  {
   "cell_type": "markdown",
   "metadata": {},
   "source": [
    "套件推荐：anaconda3 + pycharm"
   ]
  },
  {
   "cell_type": "markdown",
   "metadata": {},
   "source": [
    "# 代码的作用\n",
    "* 给人看\n",
    "* 给机器看"
   ]
  },
  {
   "cell_type": "markdown",
   "metadata": {},
   "source": [
    "# 注释\n",
    "- 机器不去执行注释内容\n",
    "- 注释一般用自然语言书写\n",
    "- 注释的写法\n",
    "    - 行注释： 以#开头\n",
    "    \n",
    "# 变量\n",
    "- 变量的命名规则\n",
    "- 系统保留的关键字\n",
    "- 变量的声明\n",
    "    - var_name = var_value\n",
    "    - var1 = var2 = var3 = var_value\n",
    "    - var1, var2, var3 = v1, v2, v3\n",
    "- 变量类型\n",
    "    - 严格意义上，python只有一个类型\n",
    "    - 标准数据一共有六种\n",
    "        - 数字类型 number\n",
    "        - 字符串类型 str\n",
    "        - 列表 list\n",
    "        - 元组 tuple\n",
    "        - 字典 Dictionary\n",
    "        - 集合 set"
   ]
  },
  {
   "cell_type": "code",
   "execution_count": 5,
   "metadata": {},
   "outputs": [
    {
     "data": {
      "text/plain": [
       "['False',\n",
       " 'None',\n",
       " 'True',\n",
       " 'and',\n",
       " 'as',\n",
       " 'assert',\n",
       " 'break',\n",
       " 'class',\n",
       " 'continue',\n",
       " 'def',\n",
       " 'del',\n",
       " 'elif',\n",
       " 'else',\n",
       " 'except',\n",
       " 'finally',\n",
       " 'for',\n",
       " 'from',\n",
       " 'global',\n",
       " 'if',\n",
       " 'import',\n",
       " 'in',\n",
       " 'is',\n",
       " 'lambda',\n",
       " 'nonlocal',\n",
       " 'not',\n",
       " 'or',\n",
       " 'pass',\n",
       " 'raise',\n",
       " 'return',\n",
       " 'try',\n",
       " 'while',\n",
       " 'with',\n",
       " 'yield']"
      ]
     },
     "execution_count": 5,
     "metadata": {},
     "output_type": "execute_result"
    }
   ],
   "source": [
    "# 查看系统保留的关键字方法\n",
    "import keyword #引入关键字模块\n",
    "keyword.kwlist"
   ]
  },
  {
   "cell_type": "markdown",
   "metadata": {},
   "source": [
    "## Number数字类型\n",
    "   - 数字类型没有大小限制\n",
    "### 整数\n",
    "   - 没有小数部分， 表示个数的数字\n",
    "   - 自然数， 0 ， 负自然数\n",
    "       - 整数的进制表示\n",
    "            * 二进制\n",
    "                * 以0b开头的0，1代码\n",
    "            * 八进制\n",
    "                * 以0o开头的包含0～7的数字\n",
    "            * 十六进制\n",
    "                * 以0x开头的包含0～9，a～f\n",
    "            * 十进制\n",
    "                \n",
    "## 浮点数\n",
    "   - 小数\n",
    "   - 科学计数法\n",
    "       - 写法是用e/E后面跟整数表示10的指数\n",
    "       - 176.23 = 1.7634e2\n",
    "## 复数\n",
    "   - 定义同数学定义一样\n",
    "   - 由一个实部和一个虚部组成的数字\n",
    "   - 虚部用j/J表示\n",
    "   - 5+3j\n",
    "   - 3j\n",
    "   \n",
    "## 布尔值\n",
    "   - 表示真假的值\n",
    "   - 只有两个值 TRUE 和 FALSE\n",
    "   - 布尔值可以跟数字直接操作"
   ]
  },
  {
   "cell_type": "code",
   "execution_count": 9,
   "metadata": {},
   "outputs": [
    {
     "name": "stdout",
     "output_type": "stream",
     "text": [
      "18\n",
      "18 18 18\n",
      "3\n",
      "15\n",
      "31\n",
      "False\n",
      "True\n"
     ]
    }
   ],
   "source": [
    "age = 18\n",
    "print(age)\n",
    "\n",
    "age1 = age2 = age3 = 18\n",
    "print(age1, age2, age3)\n",
    "\n",
    "print(0b11)\n",
    "print(0o17)\n",
    "print(0x1f)\n",
    "\n",
    "print(True)\n",
    "print(False)"
   ]
  },
  {
   "cell_type": "markdown",
   "metadata": {},
   "source": [
    "## 字符串\n",
    "   - 用来表示一串文字信息\n",
    "   - 如何表示\n",
    "       - 单引号\n",
    "       - 双引号\n",
    "       - 三引号\n",
    "           可以包含多行\n",
    "   - 单双引号表示"
   ]
  },
  {
   "cell_type": "code",
   "execution_count": 20,
   "metadata": {},
   "outputs": [
    {
     "name": "stdout",
     "output_type": "stream",
     "text": [
      "I love python!\n",
      "I love program!\n",
      "<a style=\"color:red\">哈哈</a>\n"
     ]
    }
   ],
   "source": [
    "love = \"I love python!\"\n",
    "print(love)\n",
    "\n",
    "love = 'I love program!'\n",
    "print(love)\n",
    "\n",
    "html = '<a style=\"color:red\">哈哈</a>'\n",
    "print(html)"
   ]
  },
  {
   "cell_type": "code",
   "execution_count": null,
   "metadata": {},
   "outputs": [],
   "source": []
  }
 ],
 "metadata": {
  "kernelspec": {
   "display_name": "Python 3",
   "language": "python",
   "name": "python3"
  },
  "language_info": {
   "codemirror_mode": {
    "name": "ipython",
    "version": 3
   },
   "file_extension": ".py",
   "mimetype": "text/x-python",
   "name": "python",
   "nbconvert_exporter": "python",
   "pygments_lexer": "ipython3",
   "version": "3.6.5"
  }
 },
 "nbformat": 4,
 "nbformat_minor": 2
}
